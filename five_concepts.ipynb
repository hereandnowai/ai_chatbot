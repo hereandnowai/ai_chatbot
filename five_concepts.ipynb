{
 "cells": [
  {
   "cell_type": "markdown",
   "id": "aa12ec9e",
   "metadata": {},
   "source": [
    "Welcome to Python Basics for Building Your AI Chatbot!\n",
    "\n",
    "Hey there! 👋 Before we build our awesome AI Teacher chatbot, Caramel AI, let's quickly learn some super important building blocks from the Python programming language. Think of these as the basic tools you need before you start building something cool!\n",
    "\n",
    "What is Python?\n",
    "\n",
    "Imagine you want to tell your computer exactly what to do, step-by-step, like following a recipe. Python is a language that lets you write those instructions in a way the computer understands.[1] It's known for being quite readable (almost like English sometimes!) and very versatile, meaning you can use it for lots of different things, like building websites, analyzing data, and, of course, creating AI chatbots!"
   ]
  },
  {
   "cell_type": "markdown",
   "id": "6a9f5df0",
   "metadata": {},
   "source": [
    "Now, let's dive into the 5 key concepts:"
   ]
  },
  {
   "cell_type": "markdown",
   "id": "c485269f",
   "metadata": {},
   "source": [
    "Concept 1: Installing Things with pip[1][2][3][4][5]\n",
    "\n",
    "What is it? pip is Python's special tool manager. Think of it like an app store for Python. It lets you easily download and install extra tools (called \"packages\" or \"libraries\") that other people have built, which add new powers to your Python programs.\n",
    "\n",
    "Why do we need it? Python itself is great, but we often need specialized tools for specific tasks. For our chatbot, we need tools to talk to the Google Gemini API (openai library - yes, it's named like that for compatibility!) and to create the chat interface (gradio). pip helps us get these tools.\n",
    "\n",
    "How do we use it? In environments like Google Colab, you usually type an exclamation mark ! followed by pip install and the name of the package."
   ]
  },
  {
   "cell_type": "code",
   "execution_count": 4,
   "id": "434ed63b",
   "metadata": {},
   "outputs": [
    {
     "name": "stdout",
     "output_type": "stream",
     "text": [
      "Requirement already satisfied: openai in ./.venv/lib/python3.10/site-packages (1.72.0)\n",
      "Requirement already satisfied: gradio in ./.venv/lib/python3.10/site-packages (5.25.0)\n",
      "Requirement already satisfied: jiter<1,>=0.4.0 in ./.venv/lib/python3.10/site-packages (from openai) (0.9.0)\n",
      "Requirement already satisfied: pydantic<3,>=1.9.0 in ./.venv/lib/python3.10/site-packages (from openai) (2.11.3)\n",
      "Requirement already satisfied: typing-extensions<5,>=4.11 in ./.venv/lib/python3.10/site-packages (from openai) (4.13.2)\n",
      "Requirement already satisfied: tqdm>4 in ./.venv/lib/python3.10/site-packages (from openai) (4.67.1)\n",
      "Requirement already satisfied: anyio<5,>=3.5.0 in ./.venv/lib/python3.10/site-packages (from openai) (4.9.0)\n",
      "Requirement already satisfied: distro<2,>=1.7.0 in ./.venv/lib/python3.10/site-packages (from openai) (1.9.0)\n",
      "Requirement already satisfied: sniffio in ./.venv/lib/python3.10/site-packages (from openai) (1.3.1)\n",
      "Requirement already satisfied: httpx<1,>=0.23.0 in ./.venv/lib/python3.10/site-packages (from openai) (0.28.1)\n",
      "Requirement already satisfied: gradio-client==1.8.0 in ./.venv/lib/python3.10/site-packages (from gradio) (1.8.0)\n",
      "Requirement already satisfied: pandas<3.0,>=1.0 in ./.venv/lib/python3.10/site-packages (from gradio) (2.2.3)\n",
      "Requirement already satisfied: numpy<3.0,>=1.0 in ./.venv/lib/python3.10/site-packages (from gradio) (2.2.4)\n",
      "Requirement already satisfied: aiofiles<25.0,>=22.0 in ./.venv/lib/python3.10/site-packages (from gradio) (24.1.0)\n",
      "Requirement already satisfied: groovy~=0.1 in ./.venv/lib/python3.10/site-packages (from gradio) (0.1.2)\n",
      "Requirement already satisfied: uvicorn>=0.14.0 in ./.venv/lib/python3.10/site-packages (from gradio) (0.34.0)\n",
      "Requirement already satisfied: jinja2<4.0 in ./.venv/lib/python3.10/site-packages (from gradio) (3.1.6)\n",
      "Requirement already satisfied: typer<1.0,>=0.12 in ./.venv/lib/python3.10/site-packages (from gradio) (0.15.2)\n",
      "Requirement already satisfied: semantic-version~=2.0 in ./.venv/lib/python3.10/site-packages (from gradio) (2.10.0)\n",
      "Requirement already satisfied: pillow<12.0,>=8.0 in ./.venv/lib/python3.10/site-packages (from gradio) (11.1.0)\n",
      "Requirement already satisfied: huggingface-hub>=0.28.1 in ./.venv/lib/python3.10/site-packages (from gradio) (0.30.2)\n",
      "Requirement already satisfied: fastapi<1.0,>=0.115.2 in ./.venv/lib/python3.10/site-packages (from gradio) (0.115.12)\n",
      "Requirement already satisfied: pydub in ./.venv/lib/python3.10/site-packages (from gradio) (0.25.1)\n",
      "Requirement already satisfied: ffmpy in ./.venv/lib/python3.10/site-packages (from gradio) (0.5.0)\n",
      "Requirement already satisfied: ruff>=0.9.3 in ./.venv/lib/python3.10/site-packages (from gradio) (0.11.5)\n",
      "Requirement already satisfied: starlette<1.0,>=0.40.0 in ./.venv/lib/python3.10/site-packages (from gradio) (0.46.1)\n",
      "Requirement already satisfied: tomlkit<0.14.0,>=0.12.0 in ./.venv/lib/python3.10/site-packages (from gradio) (0.13.2)\n",
      "Requirement already satisfied: pyyaml<7.0,>=5.0 in ./.venv/lib/python3.10/site-packages (from gradio) (6.0.2)\n",
      "Requirement already satisfied: markupsafe<4.0,>=2.0 in ./.venv/lib/python3.10/site-packages (from gradio) (3.0.2)\n",
      "Requirement already satisfied: packaging in ./.venv/lib/python3.10/site-packages (from gradio) (24.2)\n",
      "Requirement already satisfied: python-multipart>=0.0.18 in ./.venv/lib/python3.10/site-packages (from gradio) (0.0.20)\n",
      "Requirement already satisfied: orjson~=3.0 in ./.venv/lib/python3.10/site-packages (from gradio) (3.10.16)\n",
      "Requirement already satisfied: safehttpx<0.2.0,>=0.1.6 in ./.venv/lib/python3.10/site-packages (from gradio) (0.1.6)\n",
      "Requirement already satisfied: fsspec in ./.venv/lib/python3.10/site-packages (from gradio-client==1.8.0->gradio) (2025.3.2)\n",
      "Requirement already satisfied: websockets<16.0,>=10.0 in ./.venv/lib/python3.10/site-packages (from gradio-client==1.8.0->gradio) (15.0.1)\n",
      "Requirement already satisfied: idna>=2.8 in ./.venv/lib/python3.10/site-packages (from anyio<5,>=3.5.0->openai) (3.10)\n",
      "Requirement already satisfied: exceptiongroup>=1.0.2 in ./.venv/lib/python3.10/site-packages (from anyio<5,>=3.5.0->openai) (1.2.2)\n",
      "Requirement already satisfied: httpcore==1.* in ./.venv/lib/python3.10/site-packages (from httpx<1,>=0.23.0->openai) (1.0.8)\n",
      "Requirement already satisfied: certifi in ./.venv/lib/python3.10/site-packages (from httpx<1,>=0.23.0->openai) (2025.1.31)\n",
      "Requirement already satisfied: h11<0.15,>=0.13 in ./.venv/lib/python3.10/site-packages (from httpcore==1.*->httpx<1,>=0.23.0->openai) (0.14.0)\n",
      "Requirement already satisfied: requests in ./.venv/lib/python3.10/site-packages (from huggingface-hub>=0.28.1->gradio) (2.32.3)\n",
      "Requirement already satisfied: filelock in ./.venv/lib/python3.10/site-packages (from huggingface-hub>=0.28.1->gradio) (3.18.0)\n",
      "Requirement already satisfied: tzdata>=2022.7 in ./.venv/lib/python3.10/site-packages (from pandas<3.0,>=1.0->gradio) (2025.2)\n",
      "Requirement already satisfied: python-dateutil>=2.8.2 in ./.venv/lib/python3.10/site-packages (from pandas<3.0,>=1.0->gradio) (2.9.0.post0)\n",
      "Requirement already satisfied: pytz>=2020.1 in ./.venv/lib/python3.10/site-packages (from pandas<3.0,>=1.0->gradio) (2025.2)\n",
      "Requirement already satisfied: annotated-types>=0.6.0 in ./.venv/lib/python3.10/site-packages (from pydantic<3,>=1.9.0->openai) (0.7.0)\n",
      "Requirement already satisfied: typing-inspection>=0.4.0 in ./.venv/lib/python3.10/site-packages (from pydantic<3,>=1.9.0->openai) (0.4.0)\n",
      "Requirement already satisfied: pydantic-core==2.33.1 in ./.venv/lib/python3.10/site-packages (from pydantic<3,>=1.9.0->openai) (2.33.1)\n",
      "Requirement already satisfied: click>=8.0.0 in ./.venv/lib/python3.10/site-packages (from typer<1.0,>=0.12->gradio) (8.1.8)\n",
      "Requirement already satisfied: shellingham>=1.3.0 in ./.venv/lib/python3.10/site-packages (from typer<1.0,>=0.12->gradio) (1.5.4)\n",
      "Requirement already satisfied: rich>=10.11.0 in ./.venv/lib/python3.10/site-packages (from typer<1.0,>=0.12->gradio) (14.0.0)\n",
      "Requirement already satisfied: six>=1.5 in ./.venv/lib/python3.10/site-packages (from python-dateutil>=2.8.2->pandas<3.0,>=1.0->gradio) (1.17.0)\n",
      "Requirement already satisfied: pygments<3.0.0,>=2.13.0 in ./.venv/lib/python3.10/site-packages (from rich>=10.11.0->typer<1.0,>=0.12->gradio) (2.19.1)\n",
      "Requirement already satisfied: markdown-it-py>=2.2.0 in ./.venv/lib/python3.10/site-packages (from rich>=10.11.0->typer<1.0,>=0.12->gradio) (3.0.0)\n",
      "Requirement already satisfied: charset-normalizer<4,>=2 in ./.venv/lib/python3.10/site-packages (from requests->huggingface-hub>=0.28.1->gradio) (3.4.1)\n",
      "Requirement already satisfied: urllib3<3,>=1.21.1 in ./.venv/lib/python3.10/site-packages (from requests->huggingface-hub>=0.28.1->gradio) (2.4.0)\n",
      "Requirement already satisfied: mdurl~=0.1 in ./.venv/lib/python3.10/site-packages (from markdown-it-py>=2.2.0->rich>=10.11.0->typer<1.0,>=0.12->gradio) (0.1.2)\n",
      "\n",
      "\u001b[1m[\u001b[0m\u001b[34;49mnotice\u001b[0m\u001b[1;39;49m]\u001b[0m\u001b[39;49m A new release of pip is available: \u001b[0m\u001b[31;49m23.0.1\u001b[0m\u001b[39;49m -> \u001b[0m\u001b[32;49m25.0.1\u001b[0m\n",
      "\u001b[1m[\u001b[0m\u001b[34;49mnotice\u001b[0m\u001b[1;39;49m]\u001b[0m\u001b[39;49m To update, run: \u001b[0m\u001b[32;49mpip install --upgrade pip\u001b[0m\n",
      "Note: you may need to restart the kernel to use updated packages.\n"
     ]
    }
   ],
   "source": [
    "# Example (like in our Step 1)\n",
    "%pip install openai gradio"
   ]
  },
  {
   "cell_type": "markdown",
   "id": "ed0a9031",
   "metadata": {},
   "source": [
    "Awesome! You just learned how to add new tools to your Python toolbox!"
   ]
  },
  {
   "cell_type": "markdown",
   "id": "d0c80d02",
   "metadata": {},
   "source": []
  }
 ],
 "metadata": {
  "kernelspec": {
   "display_name": ".venv",
   "language": "python",
   "name": "python3"
  },
  "language_info": {
   "codemirror_mode": {
    "name": "ipython",
    "version": 3
   },
   "file_extension": ".py",
   "mimetype": "text/x-python",
   "name": "python",
   "nbconvert_exporter": "python",
   "pygments_lexer": "ipython3",
   "version": "3.10.12"
  }
 },
 "nbformat": 4,
 "nbformat_minor": 5
}
